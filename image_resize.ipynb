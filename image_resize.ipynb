{
  "nbformat": 4,
  "nbformat_minor": 0,
  "metadata": {
    "colab": {
      "name": "image_resize.ipynb",
      "provenance": [],
      "collapsed_sections": []
    },
    "kernelspec": {
      "name": "python3",
      "display_name": "Python 3"
    },
    "accelerator": "GPU"
  },
  "cells": [
    {
      "cell_type": "code",
      "metadata": {
        "id": "RYqOfD0vNxhk",
        "colab": {
          "base_uri": "https://localhost:8080/"
        },
        "outputId": "116a2006-ea58-458a-d147-4c4b2dd42cc3"
      },
      "source": [
        "pip --version"
      ],
      "execution_count": 7,
      "outputs": [
        {
          "output_type": "stream",
          "text": [
            "pip 21.1.3 from /usr/local/lib/python3.7/dist-packages/pip (python 3.7)\n"
          ],
          "name": "stdout"
        }
      ]
    },
    {
      "cell_type": "code",
      "metadata": {
        "id": "x689Qsv81J6z"
      },
      "source": [
        "# Importing Libraries\n",
        "import numpy as np\n",
        "from PIL import Image"
      ],
      "execution_count": 8,
      "outputs": []
    },
    {
      "cell_type": "code",
      "metadata": {
        "colab": {
          "base_uri": "https://localhost:8080/"
        },
        "id": "rSFuIsT31p63",
        "outputId": "fd216e34-a5c8-4f9f-8902-5fbee1112de7"
      },
      "source": [
        "# converting image to numpy array\n",
        "image = Image.open('image.jpeg') \n",
        "data = np.asarray(image) \n",
        "print(f'Convertion of Image to {type(data)}') \n",
        "print(f'The Dimension of image is : {data.shape}') \n",
        "h = data.shape[0]\n",
        "w = data.shape[1]\n",
        "c = data.shape[2]\n",
        "print(f\"Height of image : {h}\")\n",
        "print(f\"Width of image : {w}\")\n",
        "print(f\"Channel of image : {c}\")"
      ],
      "execution_count": 9,
      "outputs": [
        {
          "output_type": "stream",
          "text": [
            "Convertion of Image to <class 'numpy.ndarray'>\n",
            "The Dimension of image is : (183, 275, 3)\n",
            "Height of image : 183\n",
            "Width of image : 275\n",
            "Channel of image : 3\n"
          ],
          "name": "stdout"
        }
      ]
    },
    {
      "cell_type": "code",
      "metadata": {
        "id": "WN3YF2ol2M0V"
      },
      "source": [
        "# Part I - Extract the energy out of the image.\n",
        "def extract_energy(imgArray, to_show=False):\n",
        "  h, w, c = imgArray.shape\n",
        "  right = np.empty_like(imgArray) \n",
        "  right = np.concatenate((imgArray[1:,:,:], imgArray[h-1,:,:].reshape((1,-1,3))), axis=0)/255\n",
        "\n",
        "  left = np.empty_like(imgArray) \n",
        "  left = np.concatenate((imgArray[0,:,:].reshape((1,-1,3)), imgArray[:h-1,:,:]), axis=0)/255\n",
        "  \n",
        "  down = np.empty_like(imgArray) \n",
        "  down = np.concatenate((imgArray[:,1:,:], imgArray[:,w-1,:].reshape((-1,1,3))), axis=1)/255\n",
        "  \n",
        "  up = np.empty_like(imgArray) \n",
        "  up = np.concatenate((imgArray[:,0,:].reshape((-1,1,3)), imgArray[:,:w-1,:]), axis=1)/255\n",
        "\n",
        "  d_x = left - right\n",
        "  d_y = up - down\n",
        "\n",
        "  d_x = np.square(d_x)\n",
        "  d_y = np.square(d_y)\n",
        "\n",
        "  d_x = np.sum(d_x, axis=2) \n",
        "  d_y = np.sum(d_y, axis=2)\n",
        "\n",
        "  d = d_x + d_y\n",
        "  d = d / np.max(d, axis = 1).reshape(-1,1) *255\n",
        "  if to_show:\n",
        "    pix = d.astype(np.uint8)\n",
        "    picture = Image.fromarray(pix) \n",
        "    picture.save('energy.jpg') \n",
        "  return d"
      ],
      "execution_count": 10,
      "outputs": []
    },
    {
      "cell_type": "code",
      "metadata": {
        "id": "F0gbHP692dNV"
      },
      "source": [
        "# Get the matrix of the differentiation matrix\n",
        "energy_matrix = extract_energy(data, True)"
      ],
      "execution_count": 11,
      "outputs": []
    },
    {
      "cell_type": "code",
      "metadata": {
        "id": "8gcySHHL63US"
      },
      "source": [
        "# Create a path starting from bottom to top using DP, which has less enengy in the energy martix by taking up left, up middle and up right in consideration.\n",
        "def seam_path(data, energy_mat, to_show=False):\n",
        "  h, w, _ = data.shape\n",
        "  backTrack = np.zeros_like(energy_mat, dtype=np.int)\n",
        "  energy_path = np.zeros_like(energy_mat, dtype=np.int)\n",
        "  energy_path[h-1,:] = energy_mat[h-1,:]\n",
        "  for i in reversed(range(h-1)):\n",
        "    for j in range(w):\n",
        "      if j == 0:\n",
        "        energy_path[i,j] = energy_mat[i,j]+ min(energy_path[i+1,j], energy_path[i+1,j+1])\n",
        "        backTrack[i,j] = j + np.argmin(energy_mat[i+1, j:j+2])\n",
        "      elif j == w-1:\n",
        "        energy_path[i,j] = energy_mat[i,j]+ min(energy_path[i+1,j], energy_path[i+1,j-1])\n",
        "        backTrack[i,j] = j-1 +  np.argmin(energy_mat[i+1, j-1:j+1])\n",
        "      else:\n",
        "        energy_path[i,j] = energy_mat[i,j]+ min(energy_path[i+1,j-1], energy_path[i+1,j], energy_path[i+1,j+1])\n",
        "        backTrack[i,j] = j-1 + np.argmin(energy_mat[i+1, j-1:j+2])\n",
        "  if to_show:\n",
        "    data_copy = data.copy()\n",
        "    x = np.argmin(energy_path[0,:])\n",
        "    data_copy[0,x,0] = 255\n",
        "    data_copy[0,x,1] = 0\n",
        "    data_copy[0,x,2] = 0\n",
        "    for i in range(0,h-1):\n",
        "      x = backTrack[i,x]\n",
        "      data_copy[i+1,x,0] = 255\n",
        "      data_copy[i+1,x,1] = 0\n",
        "      data_copy[i+1,x,2] = 0\n",
        "    pix = data_copy.astype(np.uint8)\n",
        "    picture = Image.fromarray(pix) \n",
        "    picture.save('Seampath.jpg') \n",
        "  return energy_matrix, backTrack\n",
        "  "
      ],
      "execution_count": 12,
      "outputs": []
    },
    {
      "cell_type": "code",
      "metadata": {
        "id": "VuP7CQC98VIE"
      },
      "source": [
        "# Get the energy matrix and path in backtrack matrix.\n",
        "energy_mat, backTrack = seam_path(data, energy_matrix, True)"
      ],
      "execution_count": 13,
      "outputs": []
    },
    {
      "cell_type": "code",
      "metadata": {
        "id": "jL_u6OwT8c65"
      },
      "source": [
        "# remove that path from the image and resize the matrix.\n",
        "def carve_image(data, energy_mat, backTrack):\n",
        "  h, w, _ = data.shape\n",
        "  mask = np.ones((h, w), dtype=np.bool)\n",
        "  x = np.argmin(energy_mat[0,:])\n",
        "  mask[0,x] = False\n",
        "  for i in range(0,h-1):\n",
        "    x = backTrack[i,x]\n",
        "    mask[i+1,x] = False\n",
        "  mask = np.stack([mask] * 3, axis=2)\n",
        "  data = data[mask].reshape((h, w - 1, 3))\n",
        "  return data"
      ],
      "execution_count": 14,
      "outputs": []
    },
    {
      "cell_type": "code",
      "metadata": {
        "id": "vUNjV7j3y-Ja",
        "colab": {
          "base_uri": "https://localhost:8080/"
        },
        "outputId": "5d3e0821-0904-4471-c97e-46ab779e69d0"
      },
      "source": [
        "data = carve_image(data, energy_mat, backTrack)\n",
        "print(data.shape)"
      ],
      "execution_count": 15,
      "outputs": [
        {
          "output_type": "stream",
          "text": [
            "(183, 274, 3)\n"
          ],
          "name": "stdout"
        }
      ]
    },
    {
      "cell_type": "code",
      "metadata": {
        "id": "JV65aQRb-ehm"
      },
      "source": [
        "# To carve columnwise.\n",
        "def column_carve(data):\n",
        "  h, w, _ = data.shape\n",
        "  energy_image = extract_energy(data)\n",
        "  energy_matrix, back_track = seam_path(data, energy_image)\n",
        "  data = carve_image(data, energy_matrix, back_track)\n",
        "  return data"
      ],
      "execution_count": 16,
      "outputs": []
    },
    {
      "cell_type": "code",
      "metadata": {
        "id": "VWgoFtKrJ2rf"
      },
      "source": [
        "def seam_carve(image, axis = 'r', dim = 1):\n",
        "  data = np.asarray(image) \n",
        "  dimension = dim\n",
        "  axis = axis\n",
        "\n",
        "  # Height\n",
        "  if axis == 'r':\n",
        "    data = np.rot90(data, 1, (0, 1))\n",
        "    for _ in range(dimension):\n",
        "      data = column_carve(data)\n",
        "    data = np.rot90(data, 3, (0, 1))\n",
        "\n",
        "  # Width\n",
        "  elif axis == 'c':\n",
        "    for _ in range(dimension):\n",
        "      data = column_carve(data)\n",
        "\n",
        "  pix = data.astype(np.uint8)\n",
        "  picture = Image.fromarray(pix) \n",
        "  picture.save('resized.jpg') "
      ],
      "execution_count": 17,
      "outputs": []
    },
    {
      "cell_type": "code",
      "metadata": {
        "id": "7MHsN6UtL0jk"
      },
      "source": [
        "seam_carve(image, 'c', 34)"
      ],
      "execution_count": 19,
      "outputs": []
    },
    {
      "cell_type": "code",
      "metadata": {
        "id": "2x3f4qjbL4ux"
      },
      "source": [
        ""
      ],
      "execution_count": null,
      "outputs": []
    },
    {
      "cell_type": "code",
      "metadata": {
        "id": "WOFSbazQ4K7p"
      },
      "source": [
        ""
      ],
      "execution_count": null,
      "outputs": []
    }
  ]
}